{
 "cells": [
  {
   "cell_type": "code",
   "execution_count": 1,
   "id": "a3e608ac",
   "metadata": {},
   "outputs": [],
   "source": [
    "import os\n",
    "import tarfile\n",
    "import urllib.request\n"
   ]
  },
  {
   "cell_type": "code",
   "execution_count": 2,
   "id": "57d47add",
   "metadata": {},
   "outputs": [],
   "source": [
    "datasets = {\n",
    "    \"spam\": \"http://untroubled.org/spam/20030228_spam.tar.bz2\",\n",
    "    \"ham\": \"http://untroubled.org/spam/20030228_easy_ham.tar.bz2\"\n",
    "}\n"
   ]
  }
 ],
 "metadata": {
  "kernelspec": {
   "display_name": "venv",
   "language": "python",
   "name": "python3"
  },
  "language_info": {
   "codemirror_mode": {
    "name": "ipython",
    "version": 3
   },
   "file_extension": ".py",
   "mimetype": "text/x-python",
   "name": "python",
   "nbconvert_exporter": "python",
   "pygments_lexer": "ipython3",
   "version": "3.13.3"
  }
 },
 "nbformat": 4,
 "nbformat_minor": 5
}
