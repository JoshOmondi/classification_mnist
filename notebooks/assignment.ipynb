{
 "cells": [
  {
   "cell_type": "markdown",
   "id": "16afe72a",
   "metadata": {},
   "source": [
    "#### . Write a function that can shift an MNIST image in any direction (left, right, up, or down) by one pixel.5 Then, for each image in the training set, create four shif‐ted copies (one per direction) and add them to the training set. Finally, train your best model on this expanded training set and measure its accuracy on the test set.You should observe that your model performs even better now! This technique of artificially growing the training set is called data augmentation or training setexpansion."
   ]
  },
  {
   "cell_type": "code",
   "execution_count": 1,
   "id": "32e6ee6f",
   "metadata": {},
   "outputs": [
    {
     "name": "stdout",
     "output_type": "stream",
     "text": [
      "✅ Augmented training set size: (300000, 784)\n",
      "\n",
      "🎯 Accuracy on test set after data augmentation: 0.9636\n"
     ]
    }
   ],
   "source": [
    "import numpy as np\n",
    "from sklearn.datasets import fetch_openml\n",
    "from sklearn.model_selection import train_test_split\n",
    "from sklearn.preprocessing import StandardScaler\n",
    "from sklearn.neighbors import KNeighborsClassifier\n",
    "from sklearn.metrics import accuracy_score\n",
    "from scipy.ndimage import shift\n",
    "\n",
    "# Step 1: Load MNIST\n",
    "mnist = fetch_openml('mnist_784', version=1, as_frame=False)\n",
    "X, y = mnist.data, mnist.target.astype(np.uint8)\n",
    "\n",
    "# Step 2: Shift function\n",
    "def shift_image(image, dx, dy):\n",
    "    \"\"\"Shifts an image (28x28) by dx and dy (in pixels)\"\"\"\n",
    "    image = image.reshape(28, 28)\n",
    "    shifted = shift(image, [dy, dx], cval=0, mode=\"constant\")\n",
    "    return shifted.reshape(784)\n",
    "\n",
    "# Step 3: Expand the training set\n",
    "X_train, X_test, y_train, y_test = train_test_split(X, y, test_size=10000, random_state=42, stratify=y)\n",
    "\n",
    "X_augmented = [X_train]\n",
    "y_augmented = [y_train]\n",
    "\n",
    "for dx, dy in ((1, 0), (-1, 0), (0, 1), (0, -1)):  # right, left, down, up\n",
    "    shifted_images = np.apply_along_axis(shift_image, axis=1, arr=X_train.reshape(-1, 784), dx=dx, dy=dy)\n",
    "    X_augmented.append(shifted_images)\n",
    "    y_augmented.append(y_train)  # labels stay the same\n",
    "\n",
    "X_train_aug = np.concatenate(X_augmented)\n",
    "y_train_aug = np.concatenate(y_augmented)\n",
    "\n",
    "print(\"✅ Augmented training set size:\", X_train_aug.shape)\n",
    "\n",
    "# Step 4: Scale the data\n",
    "scaler = StandardScaler()\n",
    "X_train_scaled = scaler.fit_transform(X_train_aug)\n",
    "X_test_scaled = scaler.transform(X_test)\n",
    "\n",
    "# Step 5: Train the model\n",
    "knn_clf = KNeighborsClassifier(n_neighbors=3, weights='distance')\n",
    "knn_clf.fit(X_train_scaled, y_train_aug)\n",
    "\n",
    "# Step 6: Evaluate\n",
    "y_pred = knn_clf.predict(X_test_scaled)\n",
    "accuracy = accuracy_score(y_test, y_pred)\n",
    "print(f\"\\n🎯 Accuracy on test set after data augmentation: {accuracy:.4f}\")\n"
   ]
  },
  {
   "cell_type": "markdown",
   "id": "371f6dda",
   "metadata": {},
   "source": [
    "##### Almost got our 97% accuracy, that was so close"
   ]
  }
 ],
 "metadata": {
  "kernelspec": {
   "display_name": "venv",
   "language": "python",
   "name": "python3"
  },
  "language_info": {
   "codemirror_mode": {
    "name": "ipython",
    "version": 3
   },
   "file_extension": ".py",
   "mimetype": "text/x-python",
   "name": "python",
   "nbconvert_exporter": "python",
   "pygments_lexer": "ipython3",
   "version": "3.13.3"
  }
 },
 "nbformat": 4,
 "nbformat_minor": 5
}
